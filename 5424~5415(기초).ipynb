{
 "cells": [
  {
   "cell_type": "markdown",
   "id": "acecf392",
   "metadata": {},
   "source": [
    "## 5424. 림보게임 --------------------------------------------------\n",
    "* https://coding-ai.aivle-edu.kr/Question/5424/View/1?fromPage=1"
   ]
  },
  {
   "cell_type": "code",
   "execution_count": 4,
   "id": "39d5ebf1",
   "metadata": {},
   "outputs": [
    {
     "name": "stdout",
     "output_type": "stream",
     "text": [
      "3\n",
      "180 100 270\n",
      "I 100\n"
     ]
    }
   ],
   "source": [
    "# 1 (실패)\n",
    "N = int(input())\n",
    "\n",
    "Lim = [int(x) for x in input().split()]\n",
    "flag = -1\n",
    "for i in range(len(Lim)):\n",
    "    if Lim[i] < 160:\n",
    "        flag = i\n",
    "        break\n",
    "        \n",
    "if flag == -1:\n",
    "    print(\"P\")\n",
    "else:\n",
    "    print(\"I\", Lim[flag])"
   ]
  },
  {
   "cell_type": "code",
   "execution_count": 9,
   "id": "79085901",
   "metadata": {},
   "outputs": [
    {
     "name": "stdout",
     "output_type": "stream",
     "text": [
      "5\n",
      "162 161 160 159 158\n",
      "I 159\n"
     ]
    }
   ],
   "source": [
    "# 2 (실패)\n",
    "N = int(input())\n",
    "\n",
    "Limbo = [int(x) for x in input().split()]\n",
    "count = 0\n",
    "for x in Limbo:\n",
    "    if x <= 160:\n",
    "        print(\"I\", x)\n",
    "        break\n",
    "    else:\n",
    "        count += 1\n",
    "\n",
    "if count == len(Limbo):\n",
    "    print(\"P\")"
   ]
  },
  {
   "cell_type": "code",
   "execution_count": 10,
   "id": "693f06e7",
   "metadata": {},
   "outputs": [
    {
     "name": "stdout",
     "output_type": "stream",
     "text": [
      "5\n",
      "180 170 162 163 190\n",
      "P\n"
     ]
    }
   ],
   "source": [
    "# 3 (실패)\n",
    "import sys\n",
    "\n",
    "N = int(input())\n",
    "#N = int(sys.stdin.readline())\n",
    "L = [int(x) for x in input().split()]\n",
    "#L = [int(x) for x in sys.stdin.readline().split()]\n",
    "\n",
    "for i in range(len(L)):\n",
    "    if L[i] <= 160:\n",
    "        print(\"I\", L[i])\n",
    "        break\n",
    "    elif i == len(L)-1:\n",
    "        print(\"P\")\n"
   ]
  },
  {
   "cell_type": "markdown",
   "id": "5921d147",
   "metadata": {},
   "source": [
    "## 5423. 10배\n",
    "* https://coding-ai.aivle-edu.kr/Question/5423/View/1?fromPage=1"
   ]
  },
  {
   "cell_type": "code",
   "execution_count": 1,
   "id": "ebe8d16d",
   "metadata": {},
   "outputs": [
    {
     "name": "stdout",
     "output_type": "stream",
     "text": [
      "4\n",
      "40\n"
     ]
    }
   ],
   "source": [
    "N = input()\n",
    "print(N+\"0\")"
   ]
  },
  {
   "cell_type": "markdown",
   "id": "ba153c93",
   "metadata": {},
   "source": [
    "## 5422. 3으로 나눈 나머지\n",
    "* https://coding-ai.aivle-edu.kr/Question/5422/View/1?fromPage=2"
   ]
  },
  {
   "cell_type": "code",
   "execution_count": 11,
   "id": "0c06bcd1",
   "metadata": {},
   "outputs": [
    {
     "name": "stdout",
     "output_type": "stream",
     "text": [
      "5\n",
      "2\n"
     ]
    }
   ],
   "source": [
    "N = int(input())\n",
    "print(N%3)"
   ]
  },
  {
   "cell_type": "markdown",
   "id": "4e96c625",
   "metadata": {},
   "source": [
    "## 5421. 16배 나누어 출력하기\n",
    "* https://coding-ai.aivle-edu.kr/Question/5421/View/1?fromPage=2"
   ]
  },
  {
   "cell_type": "code",
   "execution_count": 12,
   "id": "d794cb17",
   "metadata": {},
   "outputs": [
    {
     "name": "stdout",
     "output_type": "stream",
     "text": [
      "7\n",
      "0\n"
     ]
    }
   ],
   "source": [
    "N = int(input())\n",
    "print(N//16)"
   ]
  },
  {
   "cell_type": "markdown",
   "id": "1581529e",
   "metadata": {},
   "source": [
    "## 5420. 원의 넓이\n",
    "* https://coding-ai.aivle-edu.kr/Question/5420/View/1?fromPage=2"
   ]
  },
  {
   "cell_type": "code",
   "execution_count": 17,
   "id": "fbf86942",
   "metadata": {},
   "outputs": [
    {
     "name": "stdout",
     "output_type": "stream",
     "text": [
      "5\n",
      "78.5\n"
     ]
    }
   ],
   "source": [
    "N = int(input())\n",
    "area = N*N*3.14\n",
    "if int(area) == area:\n",
    "    print(int(area))\n",
    "else:\n",
    "    print(area)"
   ]
  },
  {
   "cell_type": "markdown",
   "id": "a2757812",
   "metadata": {},
   "source": [
    "## 5419. 최대공약수\n",
    "* https://coding-ai.aivle-edu.kr/Question/5419/View/1?fromPage=2"
   ]
  },
  {
   "cell_type": "code",
   "execution_count": 20,
   "id": "5634c5c9",
   "metadata": {},
   "outputs": [
    {
     "name": "stdout",
     "output_type": "stream",
     "text": [
      "14 18\n",
      "2\n"
     ]
    }
   ],
   "source": [
    "A, B = [int(x) for x in input().split()]\n",
    "while True:\n",
    "    if A == B:\n",
    "        print(A)\n",
    "        break\n",
    "    if A*B == 0:\n",
    "        print(max(A, B))\n",
    "    if A > B:\n",
    "        A = A - B\n",
    "    if A < B:\n",
    "        B = B - A"
   ]
  },
  {
   "cell_type": "markdown",
   "id": "a153eeee",
   "metadata": {},
   "source": [
    "## 5418. 주민등록증\n",
    "* https://coding-ai.aivle-edu.kr/Question/5418/View/1?fromPage=2"
   ]
  },
  {
   "cell_type": "code",
   "execution_count": 22,
   "id": "636d62ff",
   "metadata": {},
   "outputs": [
    {
     "name": "stdout",
     "output_type": "stream",
     "text": [
      "kimnaraesarangbadahaneul\n",
      "0\n"
     ]
    }
   ],
   "source": [
    "name = input()\n",
    "if len(name) > 20:\n",
    "    print(0)\n",
    "else:\n",
    "    print(-1)"
   ]
  },
  {
   "cell_type": "markdown",
   "id": "e314ecb4",
   "metadata": {},
   "source": [
    "## 5417. 소수 구하기\n",
    "* https://coding-ai.aivle-edu.kr/Question/5417/View/1?fromPage=2"
   ]
  },
  {
   "cell_type": "code",
   "execution_count": 30,
   "id": "8344508c",
   "metadata": {},
   "outputs": [
    {
     "name": "stdout",
     "output_type": "stream",
     "text": [
      "99\n",
      "3\n",
      "5\n",
      "7\n",
      "11\n",
      "13\n",
      "17\n",
      "19\n",
      "23\n",
      "29\n",
      "31\n",
      "37\n",
      "41\n",
      "43\n",
      "47\n",
      "53\n",
      "59\n",
      "61\n",
      "67\n",
      "71\n",
      "73\n",
      "79\n",
      "83\n",
      "89\n",
      "97\n",
      "25\n"
     ]
    }
   ],
   "source": [
    "def isPrime(n):\n",
    "    if n == 1:\n",
    "        return False\n",
    "    elif n == 2:\n",
    "        return True\n",
    "    else:\n",
    "        for x in range(2, n):\n",
    "            if n % x == 0:\n",
    "                return False\n",
    "    return True\n",
    "\n",
    "N = int(input())\n",
    "count = 0\n",
    "for n in range(1, N):\n",
    "    if isPrime(n):\n",
    "        count += 1\n",
    "        \n",
    "print(count)   "
   ]
  },
  {
   "cell_type": "markdown",
   "id": "53388df6",
   "metadata": {},
   "source": [
    "## 5416. 수들의 합\n",
    "* https://coding-ai.aivle-edu.kr/Question/5416/View/1?fromPage=2"
   ]
  },
  {
   "cell_type": "code",
   "execution_count": 31,
   "id": "aecbf23b",
   "metadata": {},
   "outputs": [
    {
     "name": "stdout",
     "output_type": "stream",
     "text": [
      "9\n",
      "14\n",
      "59\n",
      "24\n",
      "32\n",
      "1\n",
      "4\n",
      "6\n",
      "35\n",
      "18\n",
      "193\n"
     ]
    }
   ],
   "source": [
    "N = int(input())\n",
    "result = 0\n",
    "for _ in range(N):\n",
    "    x = int(input())\n",
    "    result += x\n",
    "print(result)"
   ]
  },
  {
   "cell_type": "markdown",
   "id": "8b6e1c2e",
   "metadata": {},
   "source": [
    "## 5415. 5의 배수\n",
    "* https://coding-ai.aivle-edu.kr/Question/5415/View/1?fromPage=2"
   ]
  },
  {
   "cell_type": "code",
   "execution_count": 32,
   "id": "d12f3b7b",
   "metadata": {},
   "outputs": [
    {
     "name": "stdout",
     "output_type": "stream",
     "text": [
      "23\n",
      "4\n"
     ]
    }
   ],
   "source": [
    "N = int(input())\n",
    "print(N//5)"
   ]
  },
  {
   "cell_type": "code",
   "execution_count": null,
   "id": "3b199006",
   "metadata": {},
   "outputs": [],
   "source": []
  }
 ],
 "metadata": {
  "kernelspec": {
   "display_name": "Python 3 (ipykernel)",
   "language": "python",
   "name": "python3"
  },
  "language_info": {
   "codemirror_mode": {
    "name": "ipython",
    "version": 3
   },
   "file_extension": ".py",
   "mimetype": "text/x-python",
   "name": "python",
   "nbconvert_exporter": "python",
   "pygments_lexer": "ipython3",
   "version": "3.8.8"
  }
 },
 "nbformat": 4,
 "nbformat_minor": 5
}
