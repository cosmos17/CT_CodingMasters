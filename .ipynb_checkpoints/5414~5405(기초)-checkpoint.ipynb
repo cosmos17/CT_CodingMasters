{
 "cells": [
  {
   "cell_type": "markdown",
   "id": "fcb2e1fe",
   "metadata": {},
   "source": [
    "## 5414. 3인 체조 경기\n",
    "* https://coding-ai.aivle-edu.kr/Question/5414/View/1?fromPage=3"
   ]
  },
  {
   "cell_type": "code",
   "execution_count": 5,
   "id": "642c6f8a",
   "metadata": {
    "collapsed": true
   },
   "outputs": [
    {
     "name": "stdout",
     "output_type": "stream",
     "text": [
      "23 54 232\n",
      "[23, 54, 232]\n",
      "[54, 231, 232]\n",
      "[54, 55, 231]\n",
      "[55, 230, 231]\n",
      "[55, 56, 230]\n",
      "[56, 229, 230]\n",
      "[56, 57, 229]\n",
      "[57, 228, 229]\n",
      "[57, 58, 228]\n",
      "[58, 227, 228]\n",
      "[58, 59, 227]\n",
      "[59, 226, 227]\n",
      "[59, 60, 226]\n",
      "[60, 225, 226]\n",
      "[60, 61, 225]\n",
      "[61, 224, 225]\n",
      "[61, 62, 224]\n",
      "[62, 223, 224]\n",
      "[62, 63, 223]\n",
      "[63, 222, 223]\n",
      "[63, 64, 222]\n",
      "[64, 221, 222]\n",
      "[64, 65, 221]\n",
      "[65, 220, 221]\n",
      "[65, 66, 220]\n",
      "[66, 219, 220]\n",
      "[66, 67, 219]\n",
      "[67, 218, 219]\n",
      "[67, 68, 218]\n",
      "[68, 217, 218]\n",
      "[68, 69, 217]\n",
      "[69, 216, 217]\n",
      "[69, 70, 216]\n",
      "[70, 215, 216]\n",
      "[70, 71, 215]\n",
      "[71, 214, 215]\n",
      "[71, 72, 214]\n",
      "[72, 213, 214]\n",
      "[72, 73, 213]\n",
      "[73, 212, 213]\n",
      "[73, 74, 212]\n",
      "[74, 211, 212]\n",
      "[74, 75, 211]\n",
      "[75, 210, 211]\n",
      "[75, 76, 210]\n",
      "[76, 209, 210]\n",
      "[76, 77, 209]\n",
      "[77, 208, 209]\n",
      "[77, 78, 208]\n",
      "[78, 207, 208]\n",
      "[78, 79, 207]\n",
      "[79, 206, 207]\n",
      "[79, 80, 206]\n",
      "[80, 205, 206]\n",
      "[80, 81, 205]\n",
      "[81, 204, 205]\n",
      "[81, 82, 204]\n",
      "[82, 203, 204]\n",
      "[82, 83, 203]\n",
      "[83, 202, 203]\n",
      "[83, 84, 202]\n",
      "[84, 201, 202]\n",
      "[84, 85, 201]\n",
      "[85, 200, 201]\n",
      "[85, 86, 200]\n",
      "[86, 199, 200]\n",
      "[86, 87, 199]\n",
      "[87, 198, 199]\n",
      "[87, 88, 198]\n",
      "[88, 197, 198]\n",
      "[88, 89, 197]\n",
      "[89, 196, 197]\n",
      "[89, 90, 196]\n",
      "[90, 195, 196]\n",
      "[90, 91, 195]\n",
      "[91, 194, 195]\n",
      "[91, 92, 194]\n",
      "[92, 193, 194]\n",
      "[92, 93, 193]\n",
      "[93, 192, 193]\n",
      "[93, 94, 192]\n",
      "[94, 191, 192]\n",
      "[94, 95, 191]\n",
      "[95, 190, 191]\n",
      "[95, 96, 190]\n",
      "[96, 189, 190]\n",
      "[96, 97, 189]\n",
      "[97, 188, 189]\n",
      "[97, 98, 188]\n",
      "[98, 187, 188]\n",
      "[98, 99, 187]\n",
      "[99, 186, 187]\n",
      "[99, 100, 186]\n",
      "[100, 185, 186]\n",
      "[100, 101, 185]\n",
      "[101, 184, 185]\n",
      "[101, 102, 184]\n",
      "[102, 183, 184]\n",
      "[102, 103, 183]\n",
      "[103, 182, 183]\n",
      "[103, 104, 182]\n",
      "[104, 181, 182]\n",
      "[104, 105, 181]\n",
      "[105, 180, 181]\n",
      "[105, 106, 180]\n",
      "[106, 179, 180]\n",
      "[106, 107, 179]\n",
      "[107, 178, 179]\n",
      "[107, 108, 178]\n",
      "[108, 177, 178]\n",
      "[108, 109, 177]\n",
      "[109, 176, 177]\n",
      "[109, 110, 176]\n",
      "[110, 175, 176]\n",
      "[110, 111, 175]\n",
      "[111, 174, 175]\n",
      "[111, 112, 174]\n",
      "[112, 173, 174]\n",
      "[112, 113, 173]\n",
      "[113, 172, 173]\n",
      "[113, 114, 172]\n",
      "[114, 171, 172]\n",
      "[114, 115, 171]\n",
      "[115, 170, 171]\n",
      "[115, 116, 170]\n",
      "[116, 169, 170]\n",
      "[116, 117, 169]\n",
      "[117, 168, 169]\n",
      "[117, 118, 168]\n",
      "[118, 167, 168]\n",
      "[118, 119, 167]\n",
      "[119, 166, 167]\n",
      "[119, 120, 166]\n",
      "[120, 165, 166]\n",
      "[120, 121, 165]\n",
      "[121, 164, 165]\n",
      "[121, 122, 164]\n",
      "[122, 163, 164]\n",
      "[122, 123, 163]\n",
      "[123, 162, 163]\n",
      "[123, 124, 162]\n",
      "[124, 161, 162]\n",
      "[124, 125, 161]\n",
      "[125, 160, 161]\n",
      "[125, 126, 160]\n",
      "[126, 159, 160]\n",
      "[126, 127, 159]\n",
      "[127, 158, 159]\n",
      "[127, 128, 158]\n",
      "[128, 157, 158]\n",
      "[128, 129, 157]\n",
      "[129, 156, 157]\n",
      "[129, 130, 156]\n",
      "[130, 155, 156]\n",
      "[130, 131, 155]\n",
      "[131, 154, 155]\n",
      "[131, 132, 154]\n",
      "[132, 153, 154]\n",
      "[132, 133, 153]\n",
      "[133, 152, 153]\n",
      "[133, 134, 152]\n",
      "[134, 151, 152]\n",
      "[134, 135, 151]\n",
      "[135, 150, 151]\n",
      "[135, 136, 150]\n",
      "[136, 149, 150]\n",
      "[136, 137, 149]\n",
      "[137, 148, 149]\n",
      "[137, 138, 148]\n",
      "[138, 147, 148]\n",
      "[138, 139, 147]\n",
      "[139, 146, 147]\n",
      "[139, 140, 146]\n",
      "[140, 145, 146]\n",
      "[140, 141, 145]\n",
      "[141, 144, 145]\n",
      "[141, 142, 144]\n",
      "[142, 143, 144]\n",
      "177\n"
     ]
    }
   ],
   "source": [
    "def cm5414(X):\n",
    "    count = 0\n",
    "    while True:\n",
    "        X.sort()\n",
    "        #print(X)\n",
    "        if X[2] - X[1] <= 1 and X[1] - X[0] <= 1:\n",
    "            break\n",
    "        \n",
    "        if X[2] - X[1] > X[1] - X[0]:\n",
    "            X[0] = X[2] - 1\n",
    "        else:\n",
    "            X[2] = X[0] + 1\n",
    "            \n",
    "        count += 1\n",
    "    \n",
    "    return count\n",
    "\n",
    "X = [int(x) for x in input().split()]\n",
    "print(cm5414(X))"
   ]
  },
  {
   "cell_type": "markdown",
   "id": "e12ca833",
   "metadata": {},
   "source": [
    "## 5413. 짝수와 홀수\n",
    "* https://coding-ai.aivle-edu.kr/Question/5413/View/1?fromPage=3"
   ]
  },
  {
   "cell_type": "code",
   "execution_count": null,
   "id": "6a6116fc",
   "metadata": {},
   "outputs": [],
   "source": [
    "A = int(input())\n",
    "if A%2==0:\n",
    "    print(\"E\")\n",
    "else:\n",
    "    print(\"O\")"
   ]
  },
  {
   "cell_type": "markdown",
   "id": "fe24e3a4",
   "metadata": {},
   "source": [
    "## 5412. 문자 k 찾기\n",
    "* https://coding-ai.aivle-edu.kr/Question/5412/View/1?fromPage=3"
   ]
  },
  {
   "cell_type": "code",
   "execution_count": null,
   "id": "94a26d8a",
   "metadata": {},
   "outputs": [],
   "source": [
    "print(input().count('k'))"
   ]
  },
  {
   "cell_type": "markdown",
   "id": "afcc3598",
   "metadata": {},
   "source": [
    "## 5411. 삼각형 만들기\n",
    "* https://coding-ai.aivle-edu.kr/Question/5411/View/1?fromPage=3"
   ]
  },
  {
   "cell_type": "code",
   "execution_count": 13,
   "id": "2ba9221f",
   "metadata": {},
   "outputs": [
    {
     "name": "stdout",
     "output_type": "stream",
     "text": [
      "5\n",
      "*\n",
      "**\n",
      "***\n",
      "****\n",
      "*****\n"
     ]
    }
   ],
   "source": [
    "N = int(input())\n",
    "for i in range(N):\n",
    "    for j in range(N-i-1, N):\n",
    "        print(\"*\", end='')\n",
    "    print()"
   ]
  },
  {
   "cell_type": "markdown",
   "id": "1d987617",
   "metadata": {},
   "source": [
    "## 5410. 한 줄씩 입력 받기\n",
    "* https://coding-ai.aivle-edu.kr/Question/5410/View/1?fromPage=3"
   ]
  },
  {
   "cell_type": "code",
   "execution_count": 15,
   "id": "946ac180",
   "metadata": {},
   "outputs": [
    {
     "name": "stdout",
     "output_type": "stream",
     "text": [
      "a a\n",
      "a a\n",
      "b b\n",
      "b b\n"
     ]
    }
   ],
   "source": [
    "print(input())\n",
    "print(input())"
   ]
  },
  {
   "cell_type": "markdown",
   "id": "d8f718c9",
   "metadata": {},
   "source": [
    "## 5409. 학점\n",
    "* https://coding-ai.aivle-edu.kr/Question/5409/View/1?fromPage=3"
   ]
  },
  {
   "cell_type": "code",
   "execution_count": 1,
   "id": "1898acb7",
   "metadata": {},
   "outputs": [
    {
     "name": "stdout",
     "output_type": "stream",
     "text": [
      "85\n",
      "B\n"
     ]
    }
   ],
   "source": [
    "score = int(input())\n",
    "if score >= 90:\n",
    "    print(\"A\")\n",
    "elif score >= 80:\n",
    "    print(\"B\")\n",
    "elif score >= 70:\n",
    "    print(\"C\")\n",
    "else:\n",
    "    print(\"F\")"
   ]
  },
  {
   "cell_type": "markdown",
   "id": "0993df7f",
   "metadata": {},
   "source": [
    "## 5408. 거울\n",
    "* https://coding-ai.aivle-edu.kr/Question/5408/View/1?fromPage=3"
   ]
  },
  {
   "cell_type": "code",
   "execution_count": 4,
   "id": "ec5d67c9",
   "metadata": {},
   "outputs": [
    {
     "name": "stdout",
     "output_type": "stream",
     "text": [
      "452 111\n",
      "254\n"
     ]
    }
   ],
   "source": [
    "A, B = [x for x in input().split()]\n",
    "A = int(A[::-1])\n",
    "B = int(B[::-1])\n",
    "\n",
    "print(max(A, B))"
   ]
  },
  {
   "cell_type": "markdown",
   "id": "f3078aad",
   "metadata": {},
   "source": [
    "## 5407. 부정\n",
    "* https://coding-ai.aivle-edu.kr/Question/5407/View/1?fromPage=3"
   ]
  },
  {
   "cell_type": "code",
   "execution_count": 5,
   "id": "dff5cfed",
   "metadata": {},
   "outputs": [
    {
     "name": "stdout",
     "output_type": "stream",
     "text": [
      "0\n",
      "1\n"
     ]
    }
   ],
   "source": [
    "A = int(input())\n",
    "if A == 0:\n",
    "    print(1)\n",
    "else:\n",
    "    print(0)"
   ]
  },
  {
   "cell_type": "markdown",
   "id": "34fafed7",
   "metadata": {},
   "source": [
    "## 5406. 세로 행렬\n",
    "* https://coding-ai.aivle-edu.kr/Question/5406/View/1?fromPage=3"
   ]
  },
  {
   "cell_type": "code",
   "execution_count": 22,
   "id": "da4a41af",
   "metadata": {},
   "outputs": [
    {
     "name": "stdout",
     "output_type": "stream",
     "text": [
      "10\n",
      "1 11 21 31 41 51 61 71 81 91 \n",
      "2 12 22 32 42 52 62 72 82 92 \n",
      "3 13 23 33 43 53 63 73 83 93 \n",
      "4 14 24 34 44 54 64 74 84 94 \n",
      "5 15 25 35 45 55 65 75 85 95 \n",
      "6 16 26 36 46 56 66 76 86 96 \n",
      "7 17 27 37 47 57 67 77 87 97 \n",
      "8 18 28 38 48 58 68 78 88 98 \n",
      "9 19 29 39 49 59 69 79 89 99 \n",
      "10 20 30 40 50 60 70 80 90 100 \n"
     ]
    }
   ],
   "source": [
    "N = int(input())\n",
    "for i in range(1, N+1):\n",
    "    for j in range(0, N*N, N):\n",
    "        print(i + j, end=' ')\n",
    "    print()"
   ]
  },
  {
   "cell_type": "markdown",
   "id": "13b90465",
   "metadata": {},
   "source": [
    "## 5405. 자릿수 처리하기\n",
    "* https://coding-ai.aivle-edu.kr/Question/5405/View/1?fromPage=3"
   ]
  },
  {
   "cell_type": "code",
   "execution_count": 25,
   "id": "979ed90a",
   "metadata": {},
   "outputs": [
    {
     "name": "stdout",
     "output_type": "stream",
     "text": [
      "200\n",
      "2\n",
      "2\n"
     ]
    }
   ],
   "source": [
    "N = input()\n",
    "print(int(N[::-1]))\n",
    "\n",
    "s = 0\n",
    "for x in N:\n",
    "    s += int(x)\n",
    "print(s)"
   ]
  },
  {
   "cell_type": "code",
   "execution_count": null,
   "id": "7bedb9f5",
   "metadata": {},
   "outputs": [],
   "source": []
  }
 ],
 "metadata": {
  "kernelspec": {
   "display_name": "Python 3 (ipykernel)",
   "language": "python",
   "name": "python3"
  },
  "language_info": {
   "codemirror_mode": {
    "name": "ipython",
    "version": 3
   },
   "file_extension": ".py",
   "mimetype": "text/x-python",
   "name": "python",
   "nbconvert_exporter": "python",
   "pygments_lexer": "ipython3",
   "version": "3.8.8"
  }
 },
 "nbformat": 4,
 "nbformat_minor": 5
}
