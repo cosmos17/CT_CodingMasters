{
 "cells": [
  {
   "cell_type": "markdown",
   "id": "fcb2e1fe",
   "metadata": {},
   "source": [
    "## 5394. 먹보 수민이\n",
    "* https://coding-ai.aivle-edu.kr/Question/5394/View/1?fromPage=4"
   ]
  },
  {
   "cell_type": "code",
   "execution_count": null,
   "id": "0c59f165",
   "metadata": {},
   "outputs": [],
   "source": [
    "'''\n",
    "현위치\t포만감-(거리)+얻은\n",
    "0\t7\n",
    "4\t(7-(4-0))+39=42\n",
    "43\t(42-(43-4))+51=54\n",
    "__49\t__(54-(49-43))+18 = 66\n",
    "89\t(54-(89-43))+39 = 47\n",
    "116\t(47-(116-89))+75 = 95\n",
    "116+95 > 178\n",
    "'''"
   ]
  },
  {
   "cell_type": "code",
   "execution_count": null,
   "id": "9c854b6b",
   "metadata": {},
   "outputs": [],
   "source": [
    "# 1 (실패 2개)\n",
    "def Eat(C, L, P):\n",
    "    maxget = 0\n",
    "    for c in C:\n",
    "        maxget += c[1]\n",
    "    if maxget + P < L:\n",
    "        return 999\n",
    "    \n",
    "    curpos = 0\n",
    "    i = 0\n",
    "    count = 0\n",
    "    #print(\"P\\tmove[0]\\tcurpos\\tmove[1]\")\n",
    "    while curpos + P < L:\n",
    "        move = C[i]\n",
    "        if P < move[0] - curpos:\n",
    "            return 999\n",
    "        \n",
    "        #print(P, \"\\t\", move[0], \"\\t\", curpos, \"\\t\", move[1])\n",
    "        P = (P - (move[0] - curpos)) + move[1]\n",
    "        \n",
    "        curpos = move[0]\n",
    "        i += 1\n",
    "        count += 1\n",
    "    \n",
    "    return count\n",
    "\n",
    "\n",
    "N = int(input()) # 편의점 개수\n",
    "C = []\n",
    "for _ in range(N):\n",
    "    C.append([int(x) for x in input().split()]) # 편의점 위치와 포만감\n",
    "L, P = [int(x) for x in input().split()] # 목표거리, 초기포만감\n",
    "\n",
    "counting = []\n",
    "for i in range(N):\n",
    "    for j in range(N-i):\n",
    "        Ctp = C[:]\n",
    "        if i == 0:\n",
    "            counting.append(Eat(Ctp, L, P))\n",
    "        else:\n",
    "            Ctp.pop(j)\n",
    "            counting.append(Eat(Ctp, L, P))\n",
    "            \n",
    "result = min(counting)\n",
    "if result == 999:\n",
    "    print(-1)\n",
    "else:\n",
    "    print(result)"
   ]
  },
  {
   "cell_type": "code",
   "execution_count": 49,
   "id": "642c6f8a",
   "metadata": {},
   "outputs": [
    {
     "name": "stdout",
     "output_type": "stream",
     "text": [
      "5\n",
      "4 39\n",
      "43 51\n",
      "49 18\n",
      "1 1\n",
      "1 1\n",
      "5 5\n",
      "o1: [[0], [1], [2], [3], [4]]\n",
      "o2: [[0, 1], [0, 2], [0, 3], [0, 4], [1, 2], [1, 3], [1, 4], [2, 3], [2, 4], [3, 4]]\n",
      "0\n"
     ]
    }
   ],
   "source": [
    "# 2 (실패 2개)\n",
    "from itertools import combinations\n",
    "\n",
    "def Eat(C, L, P):\n",
    "    maxget = 0\n",
    "    for c in C:\n",
    "        maxget += c[1]\n",
    "    if maxget + P < L: # 포만감의 총합으로 목표거리 도달 실패시\n",
    "        return 999\n",
    "    \n",
    "    curpos = 0 # 현위치\n",
    "    i = 0 # C의 인덱스 증가용\n",
    "    result = 0\n",
    "    while curpos + P < L:\n",
    "        move = C[i]\n",
    "        if P < move[0] - curpos:\n",
    "            return 999\n",
    "        \n",
    "        P = (P - (move[0] - curpos)) + move[1]\n",
    "        \n",
    "        curpos = move[0]\n",
    "        i += 1\n",
    "        result += 1\n",
    "    \n",
    "    return result\n",
    "#현위치\t포만감-(거리)+얻은\n",
    "\n",
    "N = int(input()) # 편의점 개수\n",
    "C = []\n",
    "for _ in range(N):\n",
    "    C.append([int(x) for x in input().split()]) # 편의점 위치와 포만감\n",
    "L, P = [int(x) for x in input().split()] # 목표거리, 초기포만감\n",
    "\n",
    "counts = []\n",
    "counts.append(Eat(C, L, P))\n",
    "if N > 1:\n",
    "    out1 = [list(t) for t in list(combinations(list(range(N)), 1))] # 제외할 index들\n",
    "    for T in out1:\n",
    "        Ctp = C[:]\n",
    "        Ctp.pop(T[0])\n",
    "        counts.append(Eat(Ctp, L, P))\n",
    "if N > 2:\n",
    "    out2 = [list(t) for t in list(combinations(list(range(N)), 2))] # 제외할 index들\n",
    "    for T in out2:\n",
    "        Ctp = C[:]\n",
    "        Ctp.pop(T[0])\n",
    "        Ctp.pop(T[1]-1)\n",
    "        counts.append(Eat(Ctp, L, P))        \n",
    "if N > 3:\n",
    "    out3 = [list(t) for t in list(combinations(list(range(N)), 3))] # 제외할 index들\n",
    "    for T in out3:\n",
    "        Ctp = C[:]\n",
    "        Ctp.pop(T[0])\n",
    "        Ctp.pop(T[1]-1)\n",
    "        Ctp.pop(T[2]-2)\n",
    "        counts.append(Eat(Ctp, L, P))\n",
    "        \n",
    "\n",
    "result = min(counts)\n",
    "if result == 999:\n",
    "    print(-1)\n",
    "else:\n",
    "    print(result)"
   ]
  },
  {
   "cell_type": "code",
   "execution_count": null,
   "id": "11a27614",
   "metadata": {},
   "outputs": [],
   "source": []
  },
  {
   "cell_type": "markdown",
   "id": "fcec49bb",
   "metadata": {},
   "source": [
    "## 5393. You\n",
    "* https://coding-ai.aivle-edu.kr/Question/5393/View/1?fromPage=4"
   ]
  },
  {
   "cell_type": "code",
   "execution_count": null,
   "id": "c6a21107",
   "metadata": {},
   "outputs": [],
   "source": [
    "A = input()\n",
    "if A == 'You':\n",
    "    print(\"Me\")\n",
    "else:\n",
    "    print(\"No\")"
   ]
  },
  {
   "cell_type": "markdown",
   "id": "14ec9894",
   "metadata": {},
   "source": [
    "## 5392. 중앙 값\n",
    "* https://coding-ai.aivle-edu.kr/Question/5392/View/1?fromPage=4"
   ]
  },
  {
   "cell_type": "code",
   "execution_count": 50,
   "id": "bbc05aad",
   "metadata": {},
   "outputs": [
    {
     "name": "stdout",
     "output_type": "stream",
     "text": [
      "7 18 38 5 40\n",
      "18\n"
     ]
    }
   ],
   "source": [
    "K = [int(x) for x in input().split()]\n",
    "K.sort()\n",
    "print(K[2])"
   ]
  },
  {
   "cell_type": "markdown",
   "id": "514f276a",
   "metadata": {},
   "source": [
    "## 5391. 숫자 맞추기\n",
    "* https://coding-ai.aivle-edu.kr/Question/5391/View/1?fromPage=4\n",
    "* https://www.acmicpc.net/problem/1697"
   ]
  },
  {
   "cell_type": "code",
   "execution_count": null,
   "id": "af3e09d0",
   "metadata": {},
   "outputs": [],
   "source": [
    "# 1 (실패 4개)\n",
    "T, S = [int(x) for x in input().split()]\n",
    "\n",
    "count = 0\n",
    "while T > S:\n",
    "    if T % 2 == 0 and T // 2 >= S:\n",
    "        T = T // 2\n",
    "    else:\n",
    "        T -= 1\n",
    "    count += 1\n",
    "    \n",
    "print(count)"
   ]
  },
  {
   "cell_type": "code",
   "execution_count": 70,
   "id": "88b3e29a",
   "metadata": {},
   "outputs": [
    {
     "name": "stdout",
     "output_type": "stream",
     "text": [
      "100 49\n",
      "50\n",
      "1\n"
     ]
    }
   ],
   "source": [
    "# 2\n",
    "T, S = [int(x) for x in input().split()]\n",
    "\n",
    "count = 0\n",
    "while T > S:\n",
    "    if T % 2 == 0 and T // 2 >= S:\n",
    "        T = T // 2\n",
    "    else:\n",
    "        T -= 1\n",
    "    count += 1\n",
    "    #print(T)\n",
    "    \n",
    "print(count)"
   ]
  },
  {
   "cell_type": "code",
   "execution_count": 23,
   "id": "0b1606d7",
   "metadata": {
    "scrolled": false
   },
   "outputs": [
    {
     "name": "stdout",
     "output_type": "stream",
     "text": [
      "5 17\n",
      "Q: [5]\n",
      "Q: [6, 10]\n",
      "Q: [10, 7, 12]\n",
      "\tl: 1\n",
      "Q: [7, 12, 9, 20]\n",
      "Q: [12, 9, 20, 8, 14]\n",
      "Q: [9, 20, 8, 14, 11, 24]\n",
      "\tl: 2\n",
      "Q: [20, 8, 14, 11, 24, 8, 18]\n",
      "Q: [8, 14, 11, 24, 8, 18, 19]\n",
      "Q: [14, 11, 24, 8, 18, 19, 9, 16]\n",
      "\tl: 3\n",
      "Q: [11, 24, 8, 18, 19, 9, 16, 13, 28]\n",
      "Q: [24, 8, 18, 19, 9, 16, 13, 28, 10, 22]\n",
      "Q: [8, 18, 19, 9, 16, 13, 28, 10, 22, 23]\n",
      "\tl: 4\n",
      "Q: [18, 19, 9, 16, 13, 28, 10, 22, 23]\n",
      "4\n"
     ]
    }
   ],
   "source": [
    "def mybfs(Q, T):\n",
    "    layer = 1\n",
    "    count = 0\n",
    "    visited = []\n",
    "    while True:\n",
    "        print(\"Q:\", Q)\n",
    "        x = Q.pop(0)\n",
    "        count += 1\n",
    "        if count == layer*3:\n",
    "            print(\"\\tl:\", layer)\n",
    "            layer += 1\n",
    "        if x in visited:\n",
    "            continue\n",
    "        visited.append(x)\n",
    "        #if x == T:\n",
    "            #return layer\n",
    "        \n",
    "        if (x-1) == T or (x+1) == T or x*2 == T:\n",
    "            return layer - 1\n",
    "        \n",
    "        if abs(T - (x-1)*2) < abs(T - (x+1)*2):\n",
    "            Q.append(x-1)\n",
    "        else:\n",
    "            Q.append(x+1)\n",
    "\n",
    "        if x*2 < T*2:\n",
    "            Q.append(x*2)\n",
    "            \n",
    "        \n",
    "\n",
    "\n",
    "S, T = [int(x) for x in input().split()] # start, target\n",
    "Q = [S]\n",
    "\n",
    "print(mybfs(Q, T))"
   ]
  },
  {
   "cell_type": "code",
   "execution_count": 24,
   "id": "9c548987",
   "metadata": {},
   "outputs": [
    {
     "data": {
      "text/plain": [
       "10"
      ]
     },
     "execution_count": 24,
     "metadata": {},
     "output_type": "execute_result"
    }
   ],
   "source": [
    "# 코테_이찬솔\n",
    "from collections import deque\n",
    "#import sys\n",
    "end, start = map(int, sys.stdin.readline().split())\n",
    " \n",
    "def bfs(end, start):\n",
    "    Q = deque([start])\n",
    "    v = [0]*100001\n",
    "    v[start] = 0\n",
    "        while Q:\n",
    "            tmp = Q.popleft()\n",
    "            if end == tmp:\n",
    "                return v[tmp]\n",
    "            s = [tmp+1, tmp-1, tmp*2]\n",
    "            for i in s:\n",
    "                if i<=100000 and i>=0 and v[i]==0:\n",
    "                    Q.append(i)\n",
    "                    v[i] = v[tmp]+1\n",
    "\n",
    "print(bfs(end, start))"
   ]
  },
  {
   "cell_type": "code",
   "execution_count": null,
   "id": "0ff2cb3a",
   "metadata": {},
   "outputs": [],
   "source": [
    "# x2\n",
    "import sys\n",
    "end, start = map(int, sys.stdin.readline().split())\n",
    "\n",
    "def bfs(end, start):\n",
    "    Q = [start]\n",
    "    v = set([start])\n",
    "    count = 0\n",
    "    while True:\n",
    "        #print(Q, count)\n",
    "        s = []\n",
    "        for i in range(len(Q)):\n",
    "            if end in Q:\n",
    "                return count\n",
    "            temp = Q.pop(0)\n",
    "            if temp+1 not in v:\n",
    "                v.add(temp+1)\n",
    "                s.append(temp+1)\n",
    "            if temp-1 not in v:\n",
    "                v.add(temp-1)\n",
    "                s.append(temp-1)\n",
    "            if temp*2 not in v:\n",
    "                v.add(temp*2)\n",
    "                s.append(temp*2)\n",
    "        Q = s.copy()\n",
    "        count += 1\n",
    "        \n",
    "print(bfs(end, start))"
   ]
  },
  {
   "cell_type": "markdown",
   "id": "0ce903d4",
   "metadata": {},
   "source": [
    "## 5390. 약육강식\n",
    "* https://coding-ai.aivle-edu.kr/Question/5390/View/1?fromPage=4"
   ]
  },
  {
   "cell_type": "code",
   "execution_count": 1,
   "id": "5e86f833",
   "metadata": {},
   "outputs": [
    {
     "name": "stdout",
     "output_type": "stream",
     "text": [
      "6\n",
      "2 2 2 2 2 2\n",
      "1\n"
     ]
    }
   ],
   "source": [
    "# 1 (실패 4개)\n",
    "N = int(input())\n",
    "S = [int(x) for x in input().split()]\n",
    "S.append(0)\n",
    "\n",
    "counts = []\n",
    "temp = []\n",
    "for i in range(N):\n",
    "    if S[i] < S[i+1]:\n",
    "        temp.append(S[i])\n",
    "    else:\n",
    "        counts.append(len(temp)+1)\n",
    "        temp = []\n",
    "\n",
    "print(max(counts))"
   ]
  },
  {
   "cell_type": "code",
   "execution_count": null,
   "id": "83eab163",
   "metadata": {},
   "outputs": [],
   "source": [
    "# 3 5 3 8 -> 3이 되어야 함. 내껄로는 2"
   ]
  },
  {
   "cell_type": "code",
   "execution_count": 5,
   "id": "c719f147",
   "metadata": {},
   "outputs": [
    {
     "name": "stdout",
     "output_type": "stream",
     "text": [
      "10\n",
      "1 2 3 4 5 6 7 10 8 8 \n",
      "[]\n",
      "Si: 1\n",
      "[1]\n",
      "Si: 1\n",
      "[1, 1]\n",
      "Si: 1\n",
      "[1, 1, 1]\n",
      "Si: 1\n",
      "[1, 1, 1, 1]\n",
      "Si: 1\n",
      "[1, 1, 1, 1, 1]\n",
      "Si: 1\n",
      "[1, 1, 1, 1, 1, 1]\n",
      "Si: 1\n",
      "[1, 1, 1, 1, 1, 1, 1]\n",
      "Si: 1\n",
      "[1, 1, 1, 1, 1, 1, 1, 1]\n",
      "Si: 1\n",
      "[1, 1, 1, 1, 1, 1, 1, 1, 1]\n",
      "[1, 1, 1, 1, 1, 1, 1, 1, 1]\n",
      "[]\n",
      "Si: 2\n",
      "[2]\n",
      "Si: 2\n",
      "[2, 2]\n",
      "Si: 2\n",
      "[2, 2, 2]\n",
      "Si: 2\n",
      "[2, 2, 2, 2]\n",
      "Si: 2\n",
      "[2, 2, 2, 2, 2]\n",
      "Si: 2\n",
      "[2, 2, 2, 2, 2, 2]\n",
      "Si: 2\n",
      "[2, 2, 2, 2, 2, 2, 2]\n",
      "Si: 2\n",
      "[2, 2, 2, 2, 2, 2, 2, 2]\n",
      "[2, 2, 2, 2, 2, 2, 2, 2]\n",
      "[]\n",
      "Si: 3\n",
      "[3]\n",
      "Si: 3\n",
      "[3, 3]\n",
      "Si: 3\n",
      "[3, 3, 3]\n",
      "Si: 3\n",
      "[3, 3, 3, 3]\n",
      "Si: 3\n",
      "[3, 3, 3, 3, 3]\n",
      "Si: 3\n",
      "[3, 3, 3, 3, 3, 3]\n",
      "Si: 3\n",
      "[3, 3, 3, 3, 3, 3, 3]\n",
      "[3, 3, 3, 3, 3, 3, 3]\n",
      "[]\n",
      "Si: 4\n",
      "[4]\n",
      "Si: 4\n",
      "[4, 4]\n",
      "Si: 4\n",
      "[4, 4, 4]\n",
      "Si: 4\n",
      "[4, 4, 4, 4]\n",
      "Si: 4\n",
      "[4, 4, 4, 4, 4]\n",
      "Si: 4\n",
      "[4, 4, 4, 4, 4, 4]\n",
      "[4, 4, 4, 4, 4, 4]\n",
      "[]\n",
      "Si: 5\n",
      "[5]\n",
      "Si: 5\n",
      "[5, 5]\n",
      "Si: 5\n",
      "[5, 5, 5]\n",
      "Si: 5\n",
      "[5, 5, 5, 5]\n",
      "Si: 5\n",
      "[5, 5, 5, 5, 5]\n",
      "[5, 5, 5, 5, 5]\n",
      "[]\n",
      "Si: 6\n",
      "[6]\n",
      "Si: 6\n",
      "[6, 6]\n",
      "Si: 6\n",
      "[6, 6, 6]\n",
      "Si: 6\n",
      "[6, 6, 6, 6]\n",
      "[6, 6, 6, 6]\n",
      "[]\n",
      "Si: 7\n",
      "[7]\n",
      "Si: 7\n",
      "[7, 7]\n",
      "Si: 7\n",
      "[7, 7, 7]\n",
      "[7, 7, 7]\n",
      "[]\n",
      "[]\n",
      "[]\n",
      "[]\n",
      "[]\n",
      "[]\n",
      "[]\n",
      "[]\n",
      "[]\n",
      "[]\n",
      "9\n"
     ]
    }
   ],
   "source": [
    "N = int(input())\n",
    "S = [int(x) for x in input().split()]\n",
    "S.append(0)\n",
    "\n",
    "counts = []\n",
    "for i in range(N+1):\n",
    "    temp = []\n",
    "    for j in range(i, N+1):\n",
    "        if S[i] < S[j]:\n",
    "            print(\"Si:\", S[i])\n",
    "            temp.append(S[i])\n",
    "        else:\n",
    "            counts.append(len(temp))\n",
    "        print(temp)\n",
    "        \n",
    "print(max(counts))"
   ]
  },
  {
   "cell_type": "code",
   "execution_count": null,
   "id": "f3963ebc",
   "metadata": {},
   "outputs": [],
   "source": []
  }
 ],
 "metadata": {
  "kernelspec": {
   "display_name": "Python 3 (ipykernel)",
   "language": "python",
   "name": "python3"
  },
  "language_info": {
   "codemirror_mode": {
    "name": "ipython",
    "version": 3
   },
   "file_extension": ".py",
   "mimetype": "text/x-python",
   "name": "python",
   "nbconvert_exporter": "python",
   "pygments_lexer": "ipython3",
   "version": "3.8.8"
  }
 },
 "nbformat": 4,
 "nbformat_minor": 5
}
