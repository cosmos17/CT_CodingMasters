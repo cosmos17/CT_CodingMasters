{
 "cells": [
  {
   "attachments": {},
   "cell_type": "markdown",
   "id": "460f3b43",
   "metadata": {},
   "source": [
    "## 5434. 비밀번호 찾기\n",
    "* https://coding-ai.aivle-edu.kr/Question/5434/View/1?fromPage=1"
   ]
  },
  {
   "cell_type": "code",
   "execution_count": 3,
   "id": "408aa0c3",
   "metadata": {},
   "outputs": [
    {
     "name": "stdout",
     "output_type": "stream",
     "text": [
      "s a p o a c a s o\n",
      "s a p o a c\n"
     ]
    }
   ],
   "source": [
    "# 1 (성공)\n",
    "def f5434(A):\n",
    "    result = ''\n",
    "    for x in A:\n",
    "        result += x\n",
    "        if x == 'c':\n",
    "            return result\n",
    "\n",
    "A = input()\n",
    "print(f5434(A))"
   ]
  },
  {
   "attachments": {},
   "cell_type": "markdown",
   "id": "2875999c",
   "metadata": {},
   "source": [
    "## 5433. 등차수열\n",
    "* https://coding-ai.aivle-edu.kr/Question/5433/View/1?fromPage=1"
   ]
  },
  {
   "cell_type": "code",
   "execution_count": 6,
   "id": "23256b49",
   "metadata": {},
   "outputs": [
    {
     "name": "stdout",
     "output_type": "stream",
     "text": [
      "3 5 7\n",
      "33\n"
     ]
    }
   ],
   "source": [
    "# 1 (성공)\n",
    "A, B, N = [int(x) for x in input().split()]\n",
    "print(A + B*(N - 1))"
   ]
  },
  {
   "attachments": {},
   "cell_type": "markdown",
   "id": "4b5c89df",
   "metadata": {},
   "source": [
    "## 5432. 8진수와 16진수\n",
    "* https://coding-ai.aivle-edu.kr/Question/5432/View/1?fromPage=1"
   ]
  },
  {
   "cell_type": "code",
   "execution_count": 11,
   "id": "d0da83f6",
   "metadata": {},
   "outputs": [
    {
     "name": "stdout",
     "output_type": "stream",
     "text": [
      "28\n",
      "34 1C\n"
     ]
    }
   ],
   "source": [
    "# 1 (성공)\n",
    "def to8(N):\n",
    "    result = ''\n",
    "    while N > 0:\n",
    "        result += str(N % 8)\n",
    "        N = N // 8\n",
    "    \n",
    "    return result[::-1]\n",
    "\n",
    "def AF(x):\n",
    "    if x == 10: return 'A'\n",
    "    if x == 11: return 'B'\n",
    "    if x == 12: return 'C'\n",
    "    if x == 13: return 'D'\n",
    "    if x == 14: return 'E'\n",
    "    if x == 15: return 'F'\n",
    "\n",
    "def to16(N):\n",
    "    result = ''\n",
    "    while N > 0:\n",
    "        if N % 16 > 9:\n",
    "            result += AF(N % 16)\n",
    "        else:\n",
    "            result += str(N % 16)\n",
    "        N = N // 16\n",
    "            \n",
    "    return result[::-1]\n",
    "\n",
    "N = int(input())\n",
    "print(to8(N), to16(N))"
   ]
  },
  {
   "attachments": {},
   "cell_type": "markdown",
   "id": "901e6461",
   "metadata": {},
   "source": [
    "## 5431. 아스키 코드\n",
    "* https://coding-ai.aivle-edu.kr/Question/5431/View/1?fromPage=1"
   ]
  },
  {
   "cell_type": "code",
   "execution_count": 4,
   "id": "4d0c0fb1",
   "metadata": {},
   "outputs": [
    {
     "name": "stdout",
     "output_type": "stream",
     "text": [
      "65\n",
      "A\n"
     ]
    }
   ],
   "source": [
    "A = int(input())\n",
    "print(chr(A))"
   ]
  },
  {
   "attachments": {},
   "cell_type": "markdown",
   "id": "c26cc6b4",
   "metadata": {},
   "source": [
    "## 5430. 아이디 만들기\n",
    "* https://coding-ai.aivle-edu.kr/Question/5430/View/1?fromPage=1"
   ]
  },
  {
   "cell_type": "code",
   "execution_count": 5,
   "id": "e28a8b20",
   "metadata": {},
   "outputs": [
    {
     "name": "stdout",
     "output_type": "stream",
     "text": [
      "abc\n",
      "P\n"
     ]
    }
   ],
   "source": [
    "ID = input()\n",
    "if len(ID) > 20:\n",
    "    print('I')\n",
    "else:\n",
    "    print('P')"
   ]
  },
  {
   "cell_type": "markdown",
   "id": "c34f42c8",
   "metadata": {},
   "source": [
    "## 5429. 가장 큰 나머지\n",
    "* https://coding-ai.aivle-edu.kr/Question/5429/View/1?fromPage=1"
   ]
  },
  {
   "cell_type": "code",
   "execution_count": 1,
   "id": "306b6fff",
   "metadata": {},
   "outputs": [
    {
     "name": "stdout",
     "output_type": "stream",
     "text": [
      "37\n",
      "2\n"
     ]
    }
   ],
   "source": [
    "N = int(input())\n",
    "if N % 5 > N % 7:\n",
    "    print(N % 5)\n",
    "else:\n",
    "    print(N % 7)"
   ]
  },
  {
   "cell_type": "markdown",
   "id": "f437a3f6",
   "metadata": {},
   "source": [
    "## 5428. 1등급 한우\n",
    "* https://coding-ai.aivle-edu.kr/Question/5428/View/1?fromPage=1"
   ]
  },
  {
   "cell_type": "code",
   "execution_count": 3,
   "id": "c0238434",
   "metadata": {},
   "outputs": [
    {
     "name": "stdout",
     "output_type": "stream",
     "text": [
      "190\n",
      "B\n"
     ]
    }
   ],
   "source": [
    "kg = int(input())\n",
    "if kg >= 200:\n",
    "    print('A')\n",
    "elif kg >= 180:\n",
    "    print('B')\n",
    "elif kg >= 150:\n",
    "    print('C')\n",
    "else:\n",
    "    print('D')"
   ]
  },
  {
   "cell_type": "markdown",
   "id": "4737c9f3",
   "metadata": {},
   "source": [
    "## 5427. 자녀의 키는\n",
    "* https://coding-ai.aivle-edu.kr/Question/5427/View/1?fromPage=1"
   ]
  },
  {
   "cell_type": "code",
   "execution_count": 5,
   "id": "537297e3",
   "metadata": {},
   "outputs": [
    {
     "name": "stdout",
     "output_type": "stream",
     "text": [
      "170 180\n",
      "175\n"
     ]
    }
   ],
   "source": [
    "F, M = [int(x) for x in input().split()]\n",
    "print((F+M)//2)"
   ]
  },
  {
   "cell_type": "markdown",
   "id": "aaa6366e",
   "metadata": {},
   "source": [
    "## 5426. 삼각형의 조건\n",
    "* https://coding-ai.aivle-edu.kr/Question/5426/View/1?fromPage=1"
   ]
  },
  {
   "cell_type": "code",
   "execution_count": 6,
   "id": "5128ed04",
   "metadata": {},
   "outputs": [
    {
     "name": "stdout",
     "output_type": "stream",
     "text": [
      "30 60 90\n",
      "P\n"
     ]
    }
   ],
   "source": [
    "a, b, c = [int(x) for x in input().split()]\n",
    "if a+b+c == 180:\n",
    "    print('P')\n",
    "else:\n",
    "    print('F')"
   ]
  },
  {
   "cell_type": "markdown",
   "id": "d62d5fa0",
   "metadata": {},
   "source": [
    "## 5425. 기억상실\n",
    "* https://coding-ai.aivle-edu.kr/Question/5425/View/1?fromPage=1"
   ]
  },
  {
   "cell_type": "code",
   "execution_count": 8,
   "id": "1e7676ea",
   "metadata": {},
   "outputs": [
    {
     "name": "stdout",
     "output_type": "stream",
     "text": [
      "3 2 6\n",
      "4\n"
     ]
    }
   ],
   "source": [
    "A, B, N = [int(x) for x in input().split()]\n",
    "print((N-A)//(A-B) + 1)"
   ]
  },
  {
   "cell_type": "code",
   "execution_count": null,
   "id": "db053e54",
   "metadata": {},
   "outputs": [],
   "source": []
  }
 ],
 "metadata": {
  "kernelspec": {
   "display_name": "Python 3 (ipykernel)",
   "language": "python",
   "name": "python3"
  },
  "language_info": {
   "codemirror_mode": {
    "name": "ipython",
    "version": 3
   },
   "file_extension": ".py",
   "mimetype": "text/x-python",
   "name": "python",
   "nbconvert_exporter": "python",
   "pygments_lexer": "ipython3",
   "version": "3.8.8"
  }
 },
 "nbformat": 4,
 "nbformat_minor": 5
}
