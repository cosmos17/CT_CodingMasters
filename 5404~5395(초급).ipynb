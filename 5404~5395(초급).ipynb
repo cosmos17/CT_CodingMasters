{
 "cells": [
  {
   "cell_type": "markdown",
   "id": "fcb2e1fe",
   "metadata": {},
   "source": [
    "## 5404. 아까운 쿠폰\n",
    "* https://coding-ai.aivle-edu.kr/Question/5404/View/1?fromPage=4"
   ]
  },
  {
   "cell_type": "code",
   "execution_count": 6,
   "id": "642c6f8a",
   "metadata": {},
   "outputs": [
    {
     "name": "stdout",
     "output_type": "stream",
     "text": [
      "50010\n",
      "2\n"
     ]
    }
   ],
   "source": [
    "# 1 (성공)\n",
    "N = int(input())\n",
    "money = [50000, 10000, 5000, 1000, 500, 100, 50, 10]\n",
    "count = 0\n",
    "for m in money:\n",
    "    count += (N // m)\n",
    "    N = N % m\n",
    "print(count)"
   ]
  },
  {
   "cell_type": "markdown",
   "id": "646b0112",
   "metadata": {},
   "source": [
    "## 5403. 내 이름이 적힌 번호 찾기\n",
    "* https://coding-ai.aivle-edu.kr/Question/5403/View/1?fromPage=4"
   ]
  },
  {
   "cell_type": "code",
   "execution_count": 8,
   "id": "698d6a13",
   "metadata": {},
   "outputs": [
    {
     "name": "stdout",
     "output_type": "stream",
     "text": [
      "10 G\n",
      "A B C D E F G H I J\n",
      "7\n"
     ]
    }
   ],
   "source": [
    "# 1 (성공)\n",
    "N, me = [x for x in input().split()]\n",
    "N = int(N)\n",
    "names = [x for x in input().split()]\n",
    "\n",
    "for i in range(len(names)):\n",
    "    if names[i] == me:\n",
    "        print(i+1)\n",
    "        break"
   ]
  },
  {
   "cell_type": "markdown",
   "id": "f258924c",
   "metadata": {},
   "source": [
    "## 5402. 정렬된 많은 원소 사이에서 특정 원소 찾기\n",
    "* https://coding-ai.aivle-edu.kr/Question/5402/View/1?fromPage=4"
   ]
  },
  {
   "cell_type": "code",
   "execution_count": 10,
   "id": "935b59cf",
   "metadata": {},
   "outputs": [
    {
     "name": "stdout",
     "output_type": "stream",
     "text": [
      "10 7\n",
      "1 2 3 4 5 6 7 8 9 10\n",
      "7\n"
     ]
    }
   ],
   "source": [
    "# 1 (성공)\n",
    "N, A = [int(x) for x in input().split()]\n",
    "K = [int(x) for x in input().split()]\n",
    "if A not in K:\n",
    "    print(-1)\n",
    "else:\n",
    "    print(K.index(A)+1)"
   ]
  },
  {
   "cell_type": "markdown",
   "id": "a3b9d40d",
   "metadata": {},
   "source": [
    "## 5401. 바닥 공사 1\n",
    "* https://coding-ai.aivle-edu.kr/Question/5401/View/1?fromPage=4"
   ]
  },
  {
   "cell_type": "code",
   "execution_count": 17,
   "id": "3089485c",
   "metadata": {},
   "outputs": [
    {
     "name": "stdout",
     "output_type": "stream",
     "text": [
      "5\n",
      "[0, 1, 2, 3, 4, 8]\n",
      "8\n"
     ]
    }
   ],
   "source": [
    "# 1 (실패)\n",
    "N = int(input())\n",
    "dp = [0, 1, 2, 3, 4]\n",
    "\n",
    "if N > 4:\n",
    "    for i in range(5, N+1):\n",
    "        dp.append(dp[i-1] + dp[i-2] + 1)\n",
    "\n",
    "print(dp)\n",
    "print(dp[N])"
   ]
  },
  {
   "cell_type": "code",
   "execution_count": 3,
   "id": "6b3e8dad",
   "metadata": {},
   "outputs": [
    {
     "name": "stdout",
     "output_type": "stream",
     "text": [
      "5\n",
      "8\n"
     ]
    }
   ],
   "source": [
    "# 2 (성공)\n",
    "N = int(input())\n",
    "dp = [0, 1, 2, 3]\n",
    "\n",
    "if N > 3:\n",
    "    for i in range(4, N+1):\n",
    "        dp.append(dp[i-1] + dp[i-2])\n",
    "\n",
    "print(dp[N]%796796)\n",
    "\n",
    "\n",
    "\n",
    "\n",
    "\n",
    "\n"
   ]
  },
  {
   "cell_type": "markdown",
   "id": "3331e63a",
   "metadata": {},
   "source": [
    "## 5400. 우리반 아이큐왕은\n",
    "* https://coding-ai.aivle-edu.kr/Question/5400/View/1?fromPage=4"
   ]
  },
  {
   "cell_type": "code",
   "execution_count": 29,
   "id": "e8a46dd0",
   "metadata": {},
   "outputs": [
    {
     "name": "stdout",
     "output_type": "stream",
     "text": [
      "1\n",
      "a 1\n",
      "a\n"
     ]
    }
   ],
   "source": [
    "# 1 (성공)\n",
    "N = int(input())\n",
    "S = {}\n",
    "for _ in range(N):\n",
    "    name, iq = [x for x in input().split()]\n",
    "    S[name] = int(iq)\n",
    "\n",
    "S1 = dict(sorted(S.items(), key=lambda x: x[1], reverse=True))\n",
    "S2 = list(S1.keys())\n",
    "for x in S2[:3]:\n",
    "    print(x)"
   ]
  },
  {
   "cell_type": "markdown",
   "id": "7c23585e",
   "metadata": {},
   "source": [
    "## 5399. 사전 만들기\n",
    "* https://coding-ai.aivle-edu.kr/Question/5399/View/1?fromPage=4"
   ]
  },
  {
   "cell_type": "code",
   "execution_count": 4,
   "id": "a26c6432",
   "metadata": {},
   "outputs": [
    {
     "name": "stdout",
     "output_type": "stream",
     "text": [
      "6\n",
      "monk\n",
      "apply\n",
      "angel\n",
      "elephant\n",
      "apply\n",
      "encyclopedia\n",
      "monk\n",
      "angel\n",
      "apply\n",
      "elephant\n",
      "encyclopedia\n"
     ]
    }
   ],
   "source": [
    "# 1 (성공) 백준 문자열 문제와 동일\n",
    "def f1181_2(N, S):\n",
    "    S.sort() # 미리 사전순 정렬\n",
    "    dicS = {}\n",
    "    for x in S:\n",
    "        dicS[x] = len(x)\n",
    "        \n",
    "    sorted_dicS = sorted(dicS.items(), key=lambda item: item[1]) # 길이순 정렬\n",
    "\n",
    "    for s in sorted_dicS:\n",
    "        print(s[0])\n",
    "\n",
    "N = int(input())\n",
    "S = []\n",
    "for _ in range(N):\n",
    "    S.append(input())\n",
    "\n",
    "f1181_2(N, S)"
   ]
  },
  {
   "cell_type": "markdown",
   "id": "5e52add6",
   "metadata": {},
   "source": [
    "## 5398. 무향 그래프 1\n",
    "* https://coding-ai.aivle-edu.kr/Question/5398/View/1?fromPage=4"
   ]
  },
  {
   "cell_type": "code",
   "execution_count": 8,
   "id": "86cfd550",
   "metadata": {
    "scrolled": true
   },
   "outputs": [
    {
     "name": "stdout",
     "output_type": "stream",
     "text": [
      "6 8\n",
      "1 2\n",
      "1 4\n",
      "1 5\n",
      "2 3\n",
      "2 6\n",
      "3 4\n",
      "4 5\n",
      "5 6\n",
      "0 1 0 1 1 0\n",
      "1 0 1 0 0 1\n",
      "0 1 0 1 0 0\n",
      "1 0 1 0 1 0\n",
      "1 0 0 1 0 1\n",
      "0 1 0 0 1 0\n"
     ]
    }
   ],
   "source": [
    "# 1 (성공)\n",
    "N, M = [int(x) for x in input().split()]\n",
    "G = [[0] * N for i in range(N)]\n",
    "for _ in range(M):\n",
    "    x, y = [int(x) for x in input().split()]\n",
    "    G[x-1][y-1] = 1\n",
    "    G[y-1][x-1] = 1\n",
    "    \n",
    "for i in range(N):\n",
    "    print(G[i][0], end='')\n",
    "    for j in range(1, N):\n",
    "        print(\"\", G[i][j], end='')\n",
    "    print()"
   ]
  },
  {
   "cell_type": "markdown",
   "id": "5dd9e3a1",
   "metadata": {},
   "source": [
    "## 5397. 누적 합\n",
    "* https://coding-ai.aivle-edu.kr/Question/5397/View/1?fromPage=4"
   ]
  },
  {
   "cell_type": "code",
   "execution_count": 17,
   "id": "cfa6c96c",
   "metadata": {},
   "outputs": [
    {
     "name": "stdout",
     "output_type": "stream",
     "text": [
      "1\n",
      "1\n",
      "1\n"
     ]
    }
   ],
   "source": [
    "# 1 (실패 1)\n",
    "import math\n",
    "\n",
    "N = int(input())\n",
    "leaf = [int(x) for x in input().split()]\n",
    "tree = []\n",
    "\n",
    "logN = int(math.log2(N)) + 1 # N=6, 3\n",
    "leafn = 2 ** logN # 리프노드의 갯수\n",
    "for _ in range(leafn - N):\n",
    "    leaf.append(0)\n",
    "\n",
    "tree.append(leaf)\n",
    "\n",
    "for i in range(logN + 1):\n",
    "    temp = []\n",
    "    for j in range(0, len(tree[i]), 2):\n",
    "        if len(tree[i]) > 1:\n",
    "            temp.append(tree[i][j] + tree[i][j+1])\n",
    "    if len(temp) > 0:\n",
    "        tree.append(temp)\n",
    "\n",
    "for A in tree[::-1]:\n",
    "    print(A[0], end='')\n",
    "    for i in range(1, len(A)):\n",
    "        print(\"\", A[i], end='')\n",
    "    print()"
   ]
  },
  {
   "cell_type": "code",
   "execution_count": null,
   "id": "10a6a1f9",
   "metadata": {},
   "outputs": [],
   "source": [
    "# 2 (성공)\n",
    "import math\n",
    "\n",
    "N = int(input())\n",
    "leaf = [int(x) for x in input().split()]\n",
    "tree = []\n",
    "\n",
    "if N == 1:\n",
    "    print(leaf[0])\n",
    "else:\n",
    "    logN = int(math.log2(N)) + 1 # N=6, 3\n",
    "    leafn = 2 ** logN # 리프노드의 갯수\n",
    "    for _ in range(leafn - N):\n",
    "        leaf.append(0)\n",
    "\n",
    "    tree.append(leaf)\n",
    "\n",
    "    for i in range(logN + 1):\n",
    "        temp = []\n",
    "        for j in range(0, len(tree[i]), 2):\n",
    "            if len(tree[i]) > 1:\n",
    "                temp.append(tree[i][j] + tree[i][j+1])\n",
    "        if len(temp) > 0:\n",
    "            tree.append(temp)\n",
    "\n",
    "    for A in tree[::-1]:\n",
    "        print(A[0], end='')\n",
    "        for i in range(1, len(A)):\n",
    "            print(\"\", A[i], end='')\n",
    "        print()"
   ]
  },
  {
   "cell_type": "markdown",
   "id": "57290447",
   "metadata": {},
   "source": [
    "## 5396. 컴퓨터 학원\n",
    "* https://coding-ai.aivle-edu.kr/Question/5396/View/1?fromPage=4"
   ]
  },
  {
   "cell_type": "code",
   "execution_count": null,
   "id": "fb3c3282",
   "metadata": {},
   "outputs": [],
   "source": [
    "# 1 (실패)\n",
    "N = int(input())\n",
    "print(2**(N + 1) - 1)"
   ]
  },
  {
   "cell_type": "code",
   "execution_count": 41,
   "id": "d202b301",
   "metadata": {},
   "outputs": [
    {
     "name": "stdout",
     "output_type": "stream",
     "text": [
      "3\n",
      "15\n"
     ]
    }
   ],
   "source": [
    "# 2 (실패)\n",
    "N = int(input())\n",
    "dp = [0, 3]\n",
    "for i in range(1, N):\n",
    "    dp.append(dp[i] + 2**(i+1))\n",
    "\n",
    "print(dp[N])"
   ]
  },
  {
   "cell_type": "code",
   "execution_count": 7,
   "id": "08ea28ae",
   "metadata": {},
   "outputs": [
    {
     "name": "stdout",
     "output_type": "stream",
     "text": [
      "4\n",
      "41\n"
     ]
    }
   ],
   "source": [
    "# 코테_김윤식\n",
    "N = int(input())\n",
    "dp = [0] * (N+1)\n",
    "dp[1], dp[2] = 3, 7\n",
    "for i in range(3, N+1):\n",
    "    dp[i] = dp[i-1] * 3 - (dp[i-1] - dp[i-2])\n",
    "\n",
    "print(dp[N])\n",
    "\n",
    "# 한줄이 추가될때 들어오는 경우 : xx, ox, xo 3가지 -> 전 경우의 수 *3\n",
    "# N=1 (3)\n",
    "# xx xo ox\n",
    "# N=2 (7)\n",
    "# xx xo ox xx xx ox xo\n",
    "# xx xx xx ox xo xo ox\n",
    "# N=2에 한 줄 더 추가될 때, 4~7번은 2가지만 추가될 수 있으므로 이부분을 빼줘야함.\n",
    "# 이게 dp[i-1] - dp[i-2]"
   ]
  },
  {
   "cell_type": "markdown",
   "id": "ee53fa40",
   "metadata": {},
   "source": [
    "## 5395. 효율적인 화폐 구성\n",
    "* https://coding-ai.aivle-edu.kr/Question/5395/View/1?fromPage=4"
   ]
  },
  {
   "cell_type": "code",
   "execution_count": 18,
   "id": "aa272120",
   "metadata": {},
   "outputs": [
    {
     "name": "stdout",
     "output_type": "stream",
     "text": [
      "3 10\n",
      "1\n",
      "2\n",
      "3\n",
      "5\n"
     ]
    }
   ],
   "source": [
    "# 1 (실패)\n",
    "N, M = [int(x) for x in input().split()]\n",
    "coin = []\n",
    "for _ in range(N):\n",
    "    coin.append(int(input()))\n",
    "\n",
    "coin.sort(reverse=True)\n",
    "\n",
    "i = 0\n",
    "count = 0\n",
    "base = M\n",
    "while M > 0:\n",
    "    if M % coin[i] == 0:\n",
    "        print(M // coin[i] + count)\n",
    "        break\n",
    "    else:\n",
    "        M = M - coin[i]\n",
    "        count += 1\n",
    "        \n",
    "    if M < 1 and len(coin) > i:\n",
    "        M = base\n",
    "        i += 1\n",
    "        count = 0"
   ]
  },
  {
   "cell_type": "code",
   "execution_count": null,
   "id": "231d85cc",
   "metadata": {},
   "outputs": [],
   "source": []
  }
 ],
 "metadata": {
  "kernelspec": {
   "display_name": "Python 3 (ipykernel)",
   "language": "python",
   "name": "python3"
  },
  "language_info": {
   "codemirror_mode": {
    "name": "ipython",
    "version": 3
   },
   "file_extension": ".py",
   "mimetype": "text/x-python",
   "name": "python",
   "nbconvert_exporter": "python",
   "pygments_lexer": "ipython3",
   "version": "3.8.8"
  }
 },
 "nbformat": 4,
 "nbformat_minor": 5
}
